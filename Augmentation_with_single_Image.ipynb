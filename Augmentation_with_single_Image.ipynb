{
  "nbformat": 4,
  "nbformat_minor": 0,
  "metadata": {
    "colab": {
      "name": "Augmentation_with_single_Image.ipynb",
      "provenance": [],
      "collapsed_sections": [],
      "authorship_tag": "ABX9TyNbHF81hG/v9CH9Te7LD+9q",
      "include_colab_link": true
    },
    "kernelspec": {
      "name": "python3",
      "display_name": "Python 3"
    },
    "language_info": {
      "name": "python"
    }
  },
  "cells": [
    {
      "cell_type": "markdown",
      "metadata": {
        "id": "view-in-github",
        "colab_type": "text"
      },
      "source": [
        "<a href=\"https://colab.research.google.com/github/prateeksrivastava07/NN-and-CNN/blob/main/Augmentation_with_single_Image.ipynb\" target=\"_parent\"><img src=\"https://colab.research.google.com/assets/colab-badge.svg\" alt=\"Open In Colab\"/></a>"
      ]
    },
    {
      "cell_type": "code",
      "metadata": {
        "id": "QeorbGmPnEpQ"
      },
      "source": [
        "from keras.preprocessing.image import ImageDataGenerator,load_img,img_to_array"
      ],
      "execution_count": 5,
      "outputs": []
    },
    {
      "cell_type": "code",
      "metadata": {
        "id": "uU03N_zHnp6e"
      },
      "source": [
        "data_gen=ImageDataGenerator(\n",
        "rotation_range=40,\n",
        "width_shift_range=0.2,\n",
        "height_shift_range=0.2,\n",
        "rescale=1./255,\n",
        "shear_range=0.2,\n",
        "zoom_range=0.2,\n",
        "horizontal_flip=True,\n",
        "vertical_flip=True,\n",
        "fill_mode='nearest'\n",
        ")"
      ],
      "execution_count": 3,
      "outputs": []
    },
    {
      "cell_type": "code",
      "metadata": {
        "id": "baeFOCYWoinr"
      },
      "source": [
        "pic=load_img('/content/dog.jpg') # load your image"
      ],
      "execution_count": 7,
      "outputs": []
    },
    {
      "cell_type": "code",
      "metadata": {
        "colab": {
          "base_uri": "https://localhost:8080/"
        },
        "id": "h-I2Zr-5pFzK",
        "outputId": "55769c90-0333-49e4-f9e9-28b4b6bce0f6"
      },
      "source": [
        "pic.getpixel   # check the information if pic like size and RGB or GrayScale"
      ],
      "execution_count": 8,
      "outputs": [
        {
          "output_type": "execute_result",
          "data": {
            "text/plain": [
              "<bound method Image.getpixel of <PIL.JpegImagePlugin.JpegImageFile image mode=RGB size=259x194 at 0x7F74C944E690>>"
            ]
          },
          "metadata": {
            "tags": []
          },
          "execution_count": 8
        }
      ]
    },
    {
      "cell_type": "code",
      "metadata": {
        "id": "kHVKq26MpLvi"
      },
      "source": [
        "pic_array=img_to_array(pic) # convert into array format"
      ],
      "execution_count": 9,
      "outputs": []
    },
    {
      "cell_type": "code",
      "metadata": {
        "colab": {
          "base_uri": "https://localhost:8080/"
        },
        "id": "hsqIu9Ftpl7k",
        "outputId": "a9a54f79-b7ac-4773-d175-cb5c63feab2a"
      },
      "source": [
        "pic_array.shape"
      ],
      "execution_count": 10,
      "outputs": [
        {
          "output_type": "execute_result",
          "data": {
            "text/plain": [
              "(194, 259, 3)"
            ]
          },
          "metadata": {
            "tags": []
          },
          "execution_count": 10
        }
      ]
    },
    {
      "cell_type": "code",
      "metadata": {
        "id": "Dlq5PzNbpnoP"
      },
      "source": [
        "pic_array=pic_array.reshape((1,)+pic_array.shape) # add one extra dimension, it is required during augmentation"
      ],
      "execution_count": 14,
      "outputs": []
    },
    {
      "cell_type": "code",
      "metadata": {
        "colab": {
          "base_uri": "https://localhost:8080/"
        },
        "id": "1ogontk4p8Bf",
        "outputId": "efdac871-d0ed-4574-a0be-17202f4d0dc5"
      },
      "source": [
        "pic_array.shape"
      ],
      "execution_count": 16,
      "outputs": [
        {
          "output_type": "execute_result",
          "data": {
            "text/plain": [
              "(1, 194, 259, 3)"
            ]
          },
          "metadata": {
            "tags": []
          },
          "execution_count": 16
        }
      ]
    },
    {
      "cell_type": "code",
      "metadata": {
        "id": "aEovCL37qNrY"
      },
      "source": [
        "count=0 # note: if one image is there for augmentation the use flow() method otherwise use flow_from_directory() method\n",
        "for batch in data_gen.flow(pic_array,batch_size=1,save_to_dir='/content/augmented_dog_images',save_prefix='dog',save_format='.jpg'):\n",
        "  count+=1\n",
        "  if count==10:\n",
        "    break"
      ],
      "execution_count": 19,
      "outputs": []
    }
  ]
}