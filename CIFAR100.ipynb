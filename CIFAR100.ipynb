{
  "nbformat": 4,
  "nbformat_minor": 0,
  "metadata": {
    "colab": {
      "name": "CIFAR100.ipynb",
      "provenance": [],
      "collapsed_sections": [],
      "authorship_tag": "ABX9TyPv5V80139UhMqG2UwvI87+",
      "include_colab_link": true
    },
    "kernelspec": {
      "display_name": "Python 3",
      "name": "python3"
    },
    "language_info": {
      "name": "python"
    },
    "accelerator": "GPU"
  },
  "cells": [
    {
      "cell_type": "markdown",
      "metadata": {
        "id": "view-in-github",
        "colab_type": "text"
      },
      "source": [
        "<a href=\"https://colab.research.google.com/github/prateeksrivastava07/NN-and-CNN/blob/main/CIFAR100.ipynb\" target=\"_parent\"><img src=\"https://colab.research.google.com/assets/colab-badge.svg\" alt=\"Open In Colab\"/></a>"
      ]
    },
    {
      "cell_type": "code",
      "metadata": {
        "id": "U17hpBWvfEkW"
      },
      "source": [
        "import numpy as np\n",
        "import tensorflow as tf\n",
        "import cv2\n",
        "import matplotlib.pyplot as plt\n"
      ],
      "execution_count": null,
      "outputs": []
    },
    {
      "cell_type": "code",
      "metadata": {
        "id": "5wzEyJ5FfPnC"
      },
      "source": [
        "data=tf.keras.datasets.cifar100"
      ],
      "execution_count": null,
      "outputs": []
    },
    {
      "cell_type": "code",
      "metadata": {
        "id": "tUSXVcfhfZKD",
        "colab": {
          "base_uri": "https://localhost:8080/"
        },
        "outputId": "8768a462-b02d-4ccf-813f-3611ee5ec239"
      },
      "source": [
        "(xtr,ytr),(xtst,ytst)=data.load_data()"
      ],
      "execution_count": null,
      "outputs": [
        {
          "output_type": "stream",
          "text": [
            "Downloading data from https://www.cs.toronto.edu/~kriz/cifar-100-python.tar.gz\n",
            "169009152/169001437 [==============================] - 6s 0us/step\n"
          ],
          "name": "stdout"
        }
      ]
    },
    {
      "cell_type": "code",
      "metadata": {
        "colab": {
          "base_uri": "https://localhost:8080/"
        },
        "id": "O3BunNy1fgmq",
        "outputId": "ef05b8b9-e176-48dc-bf81-99b38edf09c6"
      },
      "source": [
        "xtr.shape"
      ],
      "execution_count": null,
      "outputs": [
        {
          "output_type": "execute_result",
          "data": {
            "text/plain": [
              "(50000, 32, 32, 3)"
            ]
          },
          "metadata": {
            "tags": []
          },
          "execution_count": 5
        }
      ]
    },
    {
      "cell_type": "code",
      "metadata": {
        "colab": {
          "base_uri": "https://localhost:8080/"
        },
        "id": "sAHkBFTsfkZF",
        "outputId": "ba8ef36a-a05e-47bc-cc21-2224cb16b0f7"
      },
      "source": [
        "xtst.shape"
      ],
      "execution_count": null,
      "outputs": [
        {
          "output_type": "execute_result",
          "data": {
            "text/plain": [
              "(10000, 32, 32, 3)"
            ]
          },
          "metadata": {
            "tags": []
          },
          "execution_count": 6
        }
      ]
    },
    {
      "cell_type": "code",
      "metadata": {
        "colab": {
          "base_uri": "https://localhost:8080/"
        },
        "id": "UKQkunjzfnDE",
        "outputId": "7542654c-51b5-47d5-d9c5-603247ee7bba"
      },
      "source": [
        "ytr.shape"
      ],
      "execution_count": null,
      "outputs": [
        {
          "output_type": "execute_result",
          "data": {
            "text/plain": [
              "(50000, 1)"
            ]
          },
          "metadata": {
            "tags": []
          },
          "execution_count": 7
        }
      ]
    },
    {
      "cell_type": "code",
      "metadata": {
        "colab": {
          "base_uri": "https://localhost:8080/"
        },
        "id": "eYRpyjnyfppD",
        "outputId": "a9a48caf-f437-4601-c855-e59084aaf67d"
      },
      "source": [
        "ytst.shape"
      ],
      "execution_count": null,
      "outputs": [
        {
          "output_type": "execute_result",
          "data": {
            "text/plain": [
              "(10000, 1)"
            ]
          },
          "metadata": {
            "tags": []
          },
          "execution_count": 8
        }
      ]
    },
    {
      "cell_type": "code",
      "metadata": {
        "colab": {
          "base_uri": "https://localhost:8080/"
        },
        "id": "YCyaxCKVfsvJ",
        "outputId": "02129798-3453-4272-f9ba-a786426037e4"
      },
      "source": [
        "ytst[:5]"
      ],
      "execution_count": null,
      "outputs": [
        {
          "output_type": "execute_result",
          "data": {
            "text/plain": [
              "array([[49],\n",
              "       [33],\n",
              "       [72],\n",
              "       [51],\n",
              "       [71]])"
            ]
          },
          "metadata": {
            "tags": []
          },
          "execution_count": 9
        }
      ]
    },
    {
      "cell_type": "code",
      "metadata": {
        "id": "tyPLQ7lRfzfB"
      },
      "source": [
        "ytr=ytr.reshape(-1,)\n",
        "ytst=ytst.reshape(-1,)"
      ],
      "execution_count": null,
      "outputs": []
    },
    {
      "cell_type": "code",
      "metadata": {
        "colab": {
          "base_uri": "https://localhost:8080/"
        },
        "id": "wUTcMCaygHe9",
        "outputId": "85b20716-4201-4450-a50a-9922941370ed"
      },
      "source": [
        "ytst[:5]"
      ],
      "execution_count": null,
      "outputs": [
        {
          "output_type": "execute_result",
          "data": {
            "text/plain": [
              "array([49, 33, 72, 51, 71])"
            ]
          },
          "metadata": {
            "tags": []
          },
          "execution_count": 11
        }
      ]
    },
    {
      "cell_type": "code",
      "metadata": {
        "colab": {
          "base_uri": "https://localhost:8080/"
        },
        "id": "uiLDorcUgLEH",
        "outputId": "cb4eb5a9-d98f-4402-f86b-6bedc19cacc0"
      },
      "source": [
        "ytst[0]"
      ],
      "execution_count": null,
      "outputs": [
        {
          "output_type": "execute_result",
          "data": {
            "text/plain": [
              "49"
            ]
          },
          "metadata": {
            "tags": []
          },
          "execution_count": 12
        }
      ]
    },
    {
      "cell_type": "code",
      "metadata": {
        "id": "7-4XlnfegXAU"
      },
      "source": [
        "xtr=xtr/255\n",
        "xtst=xtst/255"
      ],
      "execution_count": null,
      "outputs": []
    },
    {
      "cell_type": "code",
      "metadata": {
        "id": "HHObFMToh8zf"
      },
      "source": [
        "cn=['apple', 'aquarium_fish', 'baby', 'bear', 'beaver', 'bed', 'bee', 'beetle', 'bicycle', 'bottle', 'bowl', 'boy', 'bridge', 'bus', 'butterfly', 'camel', 'can', 'castle', 'caterpillar', 'cattle', 'chair', 'chimpanzee', 'clock', 'cloud', 'cockroach', 'couch', 'crab', 'crocodile', 'cup', 'dinosaur', 'dolphin', 'elephant', 'flatfish', 'forest', 'fox', 'girl', 'hamster', 'house', 'kangaroo', 'keyboard', 'lamp', 'lawn_mower', 'leopard', 'lion', 'lizard', 'lobster', 'man', 'maple_tree', 'motorcycle', 'mountain', 'mouse', 'mushroom', 'oak_tree', 'orange', 'orchid', 'otter', 'palm_tree', 'pear', 'pickup_truck', 'pine_tree', 'plain', 'plate', 'poppy', 'porcupine', 'possum', 'rabbit', 'raccoon', 'ray', 'road', 'rocket', 'rose', 'sea', 'seal', 'shark', 'shrew', 'skunk', 'skyscraper', 'snail', 'snake', 'spider', 'squirrel', 'streetcar', 'sunflower', 'sweet_pepper', 'table', 'tank', 'telephone', 'television', 'tiger', 'tractor', 'train', 'trout', 'tulip', 'turtle', 'wardrobe', 'whale', 'willow_tree', 'wolf', 'woman', 'worm'] "
      ],
      "execution_count": null,
      "outputs": []
    },
    {
      "cell_type": "code",
      "metadata": {
        "colab": {
          "base_uri": "https://localhost:8080/",
          "height": 136
        },
        "id": "BGV0FRT2iASe",
        "outputId": "e0117555-1232-4df0-e12b-21da7555b92b"
      },
      "source": [
        "plt.figure(figsize=(15,1))\n",
        "plt.imshow(xtst[8000])\n",
        "plt.xlabel(cn[ytst[8000]])"
      ],
      "execution_count": null,
      "outputs": [
        {
          "output_type": "execute_result",
          "data": {
            "text/plain": [
              "Text(0.5, 0, 'spider')"
            ]
          },
          "metadata": {
            "tags": []
          },
          "execution_count": 15
        },
        {
          "output_type": "display_data",
          "data": {
            "image/png": "[encoded data removed]",
            "text/plain": [
              "<Figure size 1080x72 with 1 Axes>"
            ]
          },
          "metadata": {
            "tags": [],
            "needs_background": "light"
          }
        }
      ]
    },
    {
      "cell_type": "code",
      "metadata": {
        "id": "tKCDnOLfgFPR"
      },
      "source": [
        "model=tf.keras.Sequential([\n",
        "tf.keras.layers.Conv2D(32,(3,3),input_shape=(32,32,3),activation='relu',padding='same'),\n",
        "tf.keras.layers.MaxPool2D(2,2),\n",
        "tf.keras.layers.Conv2D(64,(3,3),activation='relu',padding='same'),\n",
        "tf.keras.layers.MaxPool2D(2,2),\n",
        "tf.keras.layers.Conv2D(128,(3,3),activation='relu',padding='same'),\n",
        "tf.keras.layers.MaxPool2D(2,2),\n",
        "tf.keras.layers.Conv2D(256,(3,3),activation='relu',padding='same'),\n",
        "tf.keras.layers.MaxPool2D(2,2),\n",
        "tf.keras.layers.Flatten(),\n",
        "tf.keras.layers.Dense(1000,activation='relu'),\n",
        "#tf.keras.layers.Dropout(.20),\n",
        "tf.keras.layers.Dense(100,activation='softmax')\n",
        "])"
      ],
      "execution_count": null,
      "outputs": []
    },
    {
      "cell_type": "code",
      "metadata": {
        "id": "9eAvy3A-fvbY"
      },
      "source": [
        "model.compile(optimizer='adam',loss='sparse_categorical_crossentropy',metrics=['acc'])"
      ],
      "execution_count": null,
      "outputs": []
    },
    {
      "cell_type": "code",
      "metadata": {
        "colab": {
          "base_uri": "https://localhost:8080/"
        },
        "id": "EgSC-KFIkUn-",
        "outputId": "7e858be5-c579-4960-b059-7e6c77dc382c"
      },
      "source": [
        "model.fit(xtr,ytr,epochs=10,batch_size=20)"
      ],
      "execution_count": null,
      "outputs": [
        {
          "output_type": "stream",
          "text": [
            "Epoch 1/10\n",
            "2500/2500 [==============================] - 23s 9ms/step - loss: 3.8429 - acc: 0.1055\n",
            "Epoch 2/10\n",
            "2500/2500 [==============================] - 22s 9ms/step - loss: 3.0345 - acc: 0.2474\n",
            "Epoch 3/10\n",
            "2500/2500 [==============================] - 22s 9ms/step - loss: 2.6263 - acc: 0.3274\n",
            "Epoch 4/10\n",
            "2500/2500 [==============================] - 21s 9ms/step - loss: 2.3382 - acc: 0.3865\n",
            "Epoch 5/10\n",
            "2500/2500 [==============================] - 21s 8ms/step - loss: 2.0961 - acc: 0.4372\n",
            "Epoch 6/10\n",
            "2500/2500 [==============================] - 21s 8ms/step - loss: 1.8646 - acc: 0.4891\n",
            "Epoch 7/10\n",
            "2500/2500 [==============================] - 21s 8ms/step - loss: 1.6503 - acc: 0.5422\n",
            "Epoch 8/10\n",
            "2500/2500 [==============================] - 21s 8ms/step - loss: 1.4442 - acc: 0.5880\n",
            "Epoch 9/10\n",
            "2500/2500 [==============================] - 21s 8ms/step - loss: 1.2542 - acc: 0.6357\n",
            "Epoch 10/10\n",
            "2500/2500 [==============================] - 21s 8ms/step - loss: 1.0840 - acc: 0.6785\n"
          ],
          "name": "stdout"
        },
        {
          "output_type": "execute_result",
          "data": {
            "text/plain": [
              "<tensorflow.python.keras.callbacks.History at 0x7f113e291f10>"
            ]
          },
          "metadata": {
            "tags": []
          },
          "execution_count": 27
        }
      ]
    },
    {
      "cell_type": "code",
      "metadata": {
        "id": "MJ4oJHHYh6Sp",
        "colab": {
          "base_uri": "https://localhost:8080/"
        },
        "outputId": "393195f7-dd98-40fa-ff89-d9cb87adc1ef"
      },
      "source": [
        "model.evaluate(xtst,ytst)"
      ],
      "execution_count": null,
      "outputs": [
        {
          "output_type": "stream",
          "text": [
            "313/313 [==============================] - 2s 6ms/step - loss: 3.3560 - acc: 0.3482\n"
          ],
          "name": "stdout"
        },
        {
          "output_type": "execute_result",
          "data": {
            "text/plain": [
              "[3.3560428619384766, 0.3481999933719635]"
            ]
          },
          "metadata": {
            "tags": []
          },
          "execution_count": 29
        }
      ]
    },
    {
      "cell_type": "code",
      "metadata": {
        "id": "ARtd5XnSvOkx"
      },
      "source": [
        "model.save('CIFAR100.h5')"
      ],
      "execution_count": null,
      "outputs": []
    }
  ]
}